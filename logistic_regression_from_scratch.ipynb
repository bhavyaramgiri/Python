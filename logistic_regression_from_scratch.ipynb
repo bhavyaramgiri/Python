{
 "cells": [
  {
   "cell_type": "code",
   "execution_count": 1,
   "metadata": {},
   "outputs": [
    {
     "name": "stdout",
     "output_type": "stream",
     "text": [
      "First guess at a, b  5.0 3.5\n",
      "First loss function is  7.890933746255283\n",
      "Best a,b is  1.2036993070662023 3.310473877247611\n",
      "Best loss function is  2.690376323682816\n"
     ]
    },
    {
     "data": {
      "image/png": "[encoded data removed]",
      "text/plain": [
       "<Figure size 432x288 with 2 Axes>"
      ]
     },
     "metadata": {},
     "output_type": "display_data"
    }
   ],
   "source": [
    "import autograd.numpy as np\n",
    "from autograd import grad\n",
    "import matplotlib.pyplot as plt\n",
    "%matplotlib inline\n",
    "\n",
    "# logistic regression is a classification algorithm, which does not \n",
    "# give out continuous values as the linear model does instead logistic\n",
    "# regression will compute the probability of a observation and based \n",
    "# on that value, the observation will be mapped to a class as per a \n",
    "# given threshold.\n",
    "# The function logistic() below is the sigmoid function, which will give \n",
    "# output values ranging from 0 to 1(probability)\n",
    "# the sigmoid function s(z) = 1/ 1+(e^-z), where \"z\" is mx+b which is part \n",
    "# of model's equation and \"e\" is Euler's number i.e 2.718281 \n",
    "# Types of logistic regression : 1.Binary (Pass/Fail)\n",
    "#                                2.Multi (Cats, Dogs, Sheep)\n",
    "#                                3.Ordinal (Low, Medium, High)\n",
    "# sigmoid function which we are using is a binary type, the plot od sigmoid\n",
    "# curve shows how the output isassigned to 0 for -ve number and 1 for \n",
    "# positive number.\n",
    "\n",
    "\n",
    "def logistic(x,a,b):\n",
    "    return 1/(1.0+np.exp(-a*x+b))\n",
    "\n",
    "# loss function takes in 4 arguments, of x, y_obs which are arrays of 20 \n",
    "# elements each and a and b are defined below as random number to initiate \n",
    "# the process.\n",
    "# the loss is computed by actual y_obs and y_predicted values, \n",
    "# the formula to compute loss is same as that for linear regression.\n",
    "# which is sum of squared distances between predicted to actual value.\n",
    "def loss(x,y_obs,a,b):\n",
    "    y_model = logistic(x,a,b)\n",
    "    return np.sum( (y_model-y_obs)**2 )\n",
    "\n",
    "# x and y_obs are created, using numpy array and these will be used later for \n",
    "# plotting the observation in scatter plot\n",
    "# y_obs are all divided among the value 1 and 0 for each set of 10 \n",
    "# observations. \n",
    "# This is purposely done here since we are not specifying\n",
    "# any classes or threshold to which the observation will be assigned or \n",
    "# divided among. \n",
    "x = np.array( [0.50,0.75,1.00,1.25,1.50,1.75,1.75,2.00,2.25,2.50,2.75,3.00,3.25,\n",
    "               3.50,4.00,4.25,4.50,4.75,5.00,5.50] )\n",
    "y_obs = np.array( [0,0,0,0,0,0,1,0,1,0,1,0,1,0,1,1,1,1,1,1] )\n",
    "\n",
    "# for now random values for a and b are chosen.\n",
    "a,b = 5.0,3.5\n",
    "y_model = logistic(x,a,b) # array of probabilities from 1 to 0 for \n",
    "# all 20 observation\n",
    "\n",
    "# printing out the values of the four arguments before starting \n",
    "# the iteration to compare them with the end result after iteration. \n",
    "# loss should be reduced at the end of iteration, with the learning \n",
    "# and changing values of a and b per iteration.\n",
    "print('First guess at a, b ',a,b)\n",
    "print('First loss function is ',loss(x,y_obs,a,b))\n",
    "\n",
    "# grad function takes in the function which produce scalar value. \n",
    "# In this case loss produces scalar value as output.\n",
    "# d_by_da gives derivative of loss with respect to slope i.e \"a\" \n",
    "# which is the 3rd argument in loss function(2nd position)\n",
    "# d_by_db gives derivative of y-intercept with respect to slope \n",
    "# i.e \"b\" which is the \n",
    "# 4th argument in loss function(3nd position)\n",
    "d_by_da = grad(loss,2) \n",
    "d_by_db = grad(loss,3) \n",
    "# d(loss)/d(a) loss is differentiated with respect to \"a\"\n",
    "# d(loss)/d(b) loss is differentiated with respect to \"b\"\n",
    "\n",
    "\n",
    "# learning rate is the steps by which \"a\" and \"b\" are being updated \n",
    "# till the loss is minimum.\n",
    "learning_rate = 0.001\n",
    "maximum_number_of_iterations = 50000\n",
    "ssr = []\n",
    "\n",
    "# loop will run for 50,000 times, by the time which \"a\" and \"b\" values \n",
    "# will be updated to the point where loss will be minimum.\n",
    "# ssr/loss array will have 50000 values at the end of the iteration\n",
    "for iter in range(maximum_number_of_iterations): \n",
    "    a -= learning_rate*d_by_da(x,y_obs,a,b)\n",
    "    b -= learning_rate*d_by_db(x,y_obs,a,b)              \n",
    "    y_model = logistic(x,a,b)\n",
    "    ssr.append(loss(x,y_obs,a,b))\n",
    "\n",
    "# final a,b and loss value are displayed\n",
    "print('Best a,b is ',a,b)\n",
    "print('Best loss function is ',loss(x,y_obs,a,b))\n",
    "\n",
    "# The sigmoid plot (curve) for x and y_model is accurately starting \n",
    "# from 0 and ending to 1 and is capturing the obseravtion occurdingly. \n",
    "# the loss/ssr plot shows that initial loss was high but by 1000th \n",
    "# iteration the loss started to gradually reduce. Which shows that our\n",
    "# model is fits well\n",
    "plt.subplot(1,2,1)\n",
    "plt.scatter(x,y_obs)\n",
    "plt.plot(x,y_model)\n",
    "\n",
    "plt.subplot(1,2,2)\n",
    "plt.plot(ssr)\n",
    "\n",
    "plt.show()"
   ]
  },
  {
   "cell_type": "code",
   "execution_count": 3,
   "metadata": {},
   "outputs": [
    {
     "data": {
      "text/plain": [
       "[<matplotlib.lines.Line2D at 0x7fb68d589828>]"
      ]
     },
     "execution_count": 3,
     "metadata": {},
     "output_type": "execute_result"
    },
    {
     "data": {
      "image/png": "[encoded data removed]",
      "text/plain": [
       "<Figure size 432x288 with 1 Axes>"
      ]
     },
     "metadata": {},
     "output_type": "display_data"
    }
   ],
   "source": [
    "# semilogy is just a thin wrapper around plot which additionally changes \n",
    "# the y-axis to log scaling  and a linear scale for the x-axis. \n",
    "#It plots the columns of Y versus their index\n",
    "plt.semilogy(ssr)"
   ]
  },
  {
   "cell_type": "code",
   "execution_count": 2,
   "metadata": {},
   "outputs": [
    {
     "data": {
      "text/plain": [
       "array([0.26894142, 0.5621765 , 0.81757448, 0.93991335, 0.98201379,\n",
       "       0.99477987, 0.99477987, 0.99849882, 0.99956944, 0.99987661,\n",
       "       0.99996464, 0.99998987, 0.9999971 , 0.99999917, 0.99999993,\n",
       "       0.99999998, 0.99999999, 1.        , 1.        , 1.        ])"
      ]
     },
     "execution_count": 2,
     "metadata": {},
     "output_type": "execute_result"
    }
   ],
   "source": [
    "x = np.array( [0.50,0.75,1.00,1.25,1.50,1.75,1.75,2.00,2.25,2.50,\n",
    "               2.75,3.00,3.25,3.50,4.00,4.25,4.50,4.75,5.00,5.50] )\n",
    "y_obs = np.array( [0,0,0,0,0,0,1,0,1,0,1,0,1,0,1,1,1,1,1,1] )\n",
    "\n",
    "# for now random values for a and b are chosen.\n",
    "a,b = 5.0,3.5\n",
    "def logistic(x,a,b):\n",
    "    return 1/(1.0+np.exp(-a*x+b))\n",
    "y_model = logistic(x,a,b)\n",
    "y_model # y_model is an array which has the probability values \n",
    "# which is ranging from 0 and 1."
   ]
  },
  {
   "cell_type": "code",
   "execution_count": 10,
   "metadata": {},
   "outputs": [],
   "source": [
    "def loss(x,y_obs,a,b):\n",
    "    y_model = logistic(x,a,b)\n",
    "    return np.sum( (y_model-y_obs)**2 )"
   ]
  },
  {
   "cell_type": "code",
   "execution_count": 11,
   "metadata": {},
   "outputs": [
    {
     "data": {
      "text/plain": [
       "3.709244592836294"
      ]
     },
     "execution_count": 11,
     "metadata": {},
     "output_type": "execute_result"
    }
   ],
   "source": [
    "loss(x,y_obs,a,b) # scalar value output."
   ]
  },
  {
   "cell_type": "markdown",
   "metadata": {},
   "source": [
    "reference link:\n",
    "\n",
    "https://ml-cheatsheet.readthedocs.io/en/latest/logistic_regression.html\n",
    "\n",
    "https://www.youtube.com/watch?v=yIYKR4sgzI8&t=57s"
   ]
  }
 ],
 "metadata": {
  "kernelspec": {
   "display_name": "Python 3",
   "language": "python",
   "name": "python3"
  },
  "language_info": {
   "codemirror_mode": {
    "name": "ipython",
    "version": 3
   },
   "file_extension": ".py",
   "mimetype": "text/x-python",
   "name": "python",
   "nbconvert_exporter": "python",
   "pygments_lexer": "ipython3",
   "version": "3.6.8"
  }
 },
 "nbformat": 4,
 "nbformat_minor": 2
}
