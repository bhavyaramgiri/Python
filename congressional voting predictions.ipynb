{
 "cells": [
  {
   "cell_type": "code",
   "execution_count": 68,
   "metadata": {},
   "outputs": [],
   "source": [
    "# One of the way to build keras model is by using sequential API. \n",
    "# Sequential API allows models to be built layer by layer\n",
    "from keras.models import Sequential\n",
    "# Since layers are connected, thus we use Dense class\n",
    "from keras.layers import Dense\n",
    "from keras import optimizers\n",
    "from keras import metrics\n",
    "from sklearn.metrics import classification_report, confusion_matrix\n",
    "import matplotlib.pyplot as plt\n",
    "from matplotlib import pyplot\n",
    "import numpy as np\n",
    "import pandas as pd\n",
    "from sklearn.preprocessing import LabelEncoder\n",
    "from keras.optimizers import Adam"
   ]
  },
  {
   "cell_type": "code",
   "execution_count": 69,
   "metadata": {},
   "outputs": [],
   "source": [
    "df = pd.read_csv(\"votingrecords.csv\", header = None)\n",
    "df1 = df.apply(LabelEncoder().fit_transform)\n",
    "# The sklearn library, fit and transform the data, and then \n",
    "# replace the existing text/categorical data with the new encoded data"
   ]
  },
  {
   "cell_type": "code",
   "execution_count": 70,
   "metadata": {},
   "outputs": [
    {
     "data": {
      "text/html": [
       "<div>\n",
       "<style scoped>\n",
       "    .dataframe tbody tr th:only-of-type {\n",
       "        vertical-align: middle;\n",
       "    }\n",
       "\n",
       "    .dataframe tbody tr th {\n",
       "        vertical-align: top;\n",
       "    }\n",
       "\n",
       "    .dataframe thead th {\n",
       "        text-align: right;\n",
       "    }\n",
       "</style>\n",
       "<table border=\"1\" class=\"dataframe\">\n",
       "  <thead>\n",
       "    <tr style=\"text-align: right;\">\n",
       "      <th></th>\n",
       "      <th>0</th>\n",
       "      <th>1</th>\n",
       "      <th>2</th>\n",
       "      <th>3</th>\n",
       "      <th>4</th>\n",
       "      <th>5</th>\n",
       "      <th>6</th>\n",
       "      <th>7</th>\n",
       "      <th>8</th>\n",
       "      <th>9</th>\n",
       "      <th>10</th>\n",
       "      <th>11</th>\n",
       "      <th>12</th>\n",
       "      <th>13</th>\n",
       "      <th>14</th>\n",
       "      <th>15</th>\n",
       "      <th>16</th>\n",
       "    </tr>\n",
       "  </thead>\n",
       "  <tbody>\n",
       "    <tr>\n",
       "      <th>0</th>\n",
       "      <td>0</td>\n",
       "      <td>0</td>\n",
       "      <td>1</td>\n",
       "      <td>1</td>\n",
       "      <td>0</td>\n",
       "      <td>1</td>\n",
       "      <td>1</td>\n",
       "      <td>0</td>\n",
       "      <td>0</td>\n",
       "      <td>0</td>\n",
       "      <td>0</td>\n",
       "      <td>0</td>\n",
       "      <td>0</td>\n",
       "      <td>1</td>\n",
       "      <td>1</td>\n",
       "      <td>1</td>\n",
       "      <td>1</td>\n",
       "    </tr>\n",
       "    <tr>\n",
       "      <th>1</th>\n",
       "      <td>1</td>\n",
       "      <td>0</td>\n",
       "      <td>1</td>\n",
       "      <td>0</td>\n",
       "      <td>1</td>\n",
       "      <td>1</td>\n",
       "      <td>1</td>\n",
       "      <td>0</td>\n",
       "      <td>0</td>\n",
       "      <td>0</td>\n",
       "      <td>0</td>\n",
       "      <td>0</td>\n",
       "      <td>1</td>\n",
       "      <td>1</td>\n",
       "      <td>1</td>\n",
       "      <td>0</td>\n",
       "      <td>1</td>\n",
       "    </tr>\n",
       "    <tr>\n",
       "      <th>2</th>\n",
       "      <td>0</td>\n",
       "      <td>1</td>\n",
       "      <td>1</td>\n",
       "      <td>1</td>\n",
       "      <td>0</td>\n",
       "      <td>0</td>\n",
       "      <td>0</td>\n",
       "      <td>1</td>\n",
       "      <td>1</td>\n",
       "      <td>1</td>\n",
       "      <td>0</td>\n",
       "      <td>1</td>\n",
       "      <td>0</td>\n",
       "      <td>0</td>\n",
       "      <td>0</td>\n",
       "      <td>1</td>\n",
       "      <td>1</td>\n",
       "    </tr>\n",
       "    <tr>\n",
       "      <th>3</th>\n",
       "      <td>0</td>\n",
       "      <td>1</td>\n",
       "      <td>1</td>\n",
       "      <td>1</td>\n",
       "      <td>0</td>\n",
       "      <td>0</td>\n",
       "      <td>0</td>\n",
       "      <td>1</td>\n",
       "      <td>1</td>\n",
       "      <td>1</td>\n",
       "      <td>0</td>\n",
       "      <td>0</td>\n",
       "      <td>0</td>\n",
       "      <td>0</td>\n",
       "      <td>0</td>\n",
       "      <td>1</td>\n",
       "      <td>1</td>\n",
       "    </tr>\n",
       "    <tr>\n",
       "      <th>4</th>\n",
       "      <td>0</td>\n",
       "      <td>1</td>\n",
       "      <td>0</td>\n",
       "      <td>1</td>\n",
       "      <td>0</td>\n",
       "      <td>0</td>\n",
       "      <td>0</td>\n",
       "      <td>1</td>\n",
       "      <td>1</td>\n",
       "      <td>1</td>\n",
       "      <td>1</td>\n",
       "      <td>0</td>\n",
       "      <td>0</td>\n",
       "      <td>0</td>\n",
       "      <td>0</td>\n",
       "      <td>1</td>\n",
       "      <td>1</td>\n",
       "    </tr>\n",
       "  </tbody>\n",
       "</table>\n",
       "</div>"
      ],
      "text/plain": [
       "   0   1   2   3   4   5   6   7   8   9   10  11  12  13  14  15  16\n",
       "0   0   0   1   1   0   1   1   0   0   0   0   0   0   1   1   1   1\n",
       "1   1   0   1   0   1   1   1   0   0   0   0   0   1   1   1   0   1\n",
       "2   0   1   1   1   0   0   0   1   1   1   0   1   0   0   0   1   1\n",
       "3   0   1   1   1   0   0   0   1   1   1   0   0   0   0   0   1   1\n",
       "4   0   1   0   1   0   0   0   1   1   1   1   0   0   0   0   1   1"
      ]
     },
     "execution_count": 70,
     "metadata": {},
     "output_type": "execute_result"
    }
   ],
   "source": [
    "df1.head() # tranformed data"
   ]
  },
  {
   "cell_type": "markdown",
   "metadata": {},
   "source": [
    "#### 0 is for Democrats and 1 is for republican"
   ]
  },
  {
   "cell_type": "code",
   "execution_count": 71,
   "metadata": {},
   "outputs": [
    {
     "data": {
      "text/html": [
       "<div>\n",
       "<style scoped>\n",
       "    .dataframe tbody tr th:only-of-type {\n",
       "        vertical-align: middle;\n",
       "    }\n",
       "\n",
       "    .dataframe tbody tr th {\n",
       "        vertical-align: top;\n",
       "    }\n",
       "\n",
       "    .dataframe thead th {\n",
       "        text-align: right;\n",
       "    }\n",
       "</style>\n",
       "<table border=\"1\" class=\"dataframe\">\n",
       "  <thead>\n",
       "    <tr style=\"text-align: right;\">\n",
       "      <th></th>\n",
       "      <th>0</th>\n",
       "      <th>1</th>\n",
       "      <th>2</th>\n",
       "      <th>3</th>\n",
       "      <th>4</th>\n",
       "      <th>5</th>\n",
       "      <th>6</th>\n",
       "      <th>7</th>\n",
       "      <th>8</th>\n",
       "      <th>9</th>\n",
       "      <th>10</th>\n",
       "      <th>11</th>\n",
       "      <th>12</th>\n",
       "      <th>13</th>\n",
       "      <th>14</th>\n",
       "      <th>15</th>\n",
       "      <th>16</th>\n",
       "    </tr>\n",
       "  </thead>\n",
       "  <tbody>\n",
       "    <tr>\n",
       "      <th>0</th>\n",
       "      <td>democrat</td>\n",
       "      <td>n</td>\n",
       "      <td>y</td>\n",
       "      <td>y</td>\n",
       "      <td>n</td>\n",
       "      <td>y</td>\n",
       "      <td>y</td>\n",
       "      <td>n</td>\n",
       "      <td>n</td>\n",
       "      <td>n</td>\n",
       "      <td>n</td>\n",
       "      <td>n</td>\n",
       "      <td>n</td>\n",
       "      <td>y</td>\n",
       "      <td>y</td>\n",
       "      <td>y</td>\n",
       "      <td>y</td>\n",
       "    </tr>\n",
       "    <tr>\n",
       "      <th>1</th>\n",
       "      <td>republican</td>\n",
       "      <td>n</td>\n",
       "      <td>y</td>\n",
       "      <td>n</td>\n",
       "      <td>y</td>\n",
       "      <td>y</td>\n",
       "      <td>y</td>\n",
       "      <td>n</td>\n",
       "      <td>n</td>\n",
       "      <td>n</td>\n",
       "      <td>n</td>\n",
       "      <td>n</td>\n",
       "      <td>y</td>\n",
       "      <td>y</td>\n",
       "      <td>y</td>\n",
       "      <td>n</td>\n",
       "      <td>y</td>\n",
       "    </tr>\n",
       "    <tr>\n",
       "      <th>2</th>\n",
       "      <td>democrat</td>\n",
       "      <td>y</td>\n",
       "      <td>y</td>\n",
       "      <td>y</td>\n",
       "      <td>n</td>\n",
       "      <td>n</td>\n",
       "      <td>n</td>\n",
       "      <td>y</td>\n",
       "      <td>y</td>\n",
       "      <td>y</td>\n",
       "      <td>n</td>\n",
       "      <td>y</td>\n",
       "      <td>n</td>\n",
       "      <td>n</td>\n",
       "      <td>n</td>\n",
       "      <td>y</td>\n",
       "      <td>y</td>\n",
       "    </tr>\n",
       "    <tr>\n",
       "      <th>3</th>\n",
       "      <td>democrat</td>\n",
       "      <td>y</td>\n",
       "      <td>y</td>\n",
       "      <td>y</td>\n",
       "      <td>n</td>\n",
       "      <td>n</td>\n",
       "      <td>n</td>\n",
       "      <td>y</td>\n",
       "      <td>y</td>\n",
       "      <td>y</td>\n",
       "      <td>n</td>\n",
       "      <td>n</td>\n",
       "      <td>n</td>\n",
       "      <td>n</td>\n",
       "      <td>n</td>\n",
       "      <td>y</td>\n",
       "      <td>y</td>\n",
       "    </tr>\n",
       "    <tr>\n",
       "      <th>4</th>\n",
       "      <td>democrat</td>\n",
       "      <td>y</td>\n",
       "      <td>n</td>\n",
       "      <td>y</td>\n",
       "      <td>n</td>\n",
       "      <td>n</td>\n",
       "      <td>n</td>\n",
       "      <td>y</td>\n",
       "      <td>y</td>\n",
       "      <td>y</td>\n",
       "      <td>y</td>\n",
       "      <td>n</td>\n",
       "      <td>n</td>\n",
       "      <td>n</td>\n",
       "      <td>n</td>\n",
       "      <td>y</td>\n",
       "      <td>y</td>\n",
       "    </tr>\n",
       "  </tbody>\n",
       "</table>\n",
       "</div>"
      ],
      "text/plain": [
       "           0  1  2  3  4  5  6  7  8  9  10 11 12 13 14 15 16\n",
       "0    democrat  n  y  y  n  y  y  n  n  n  n  n  n  y  y  y  y\n",
       "1  republican  n  y  n  y  y  y  n  n  n  n  n  y  y  y  n  y\n",
       "2    democrat  y  y  y  n  n  n  y  y  y  n  y  n  n  n  y  y\n",
       "3    democrat  y  y  y  n  n  n  y  y  y  n  n  n  n  n  y  y\n",
       "4    democrat  y  n  y  n  n  n  y  y  y  y  n  n  n  n  y  y"
      ]
     },
     "execution_count": 71,
     "metadata": {},
     "output_type": "execute_result"
    }
   ],
   "source": [
    "from collections import defaultdict\n",
    "df = pd.read_csv(\"votingrecords.csv\", header = None)\n",
    "d = defaultdict(LabelEncoder)\n",
    "# converting all the columns to dictionary of \"df\"\n",
    "# and then encoding them by using fit.transform()\n",
    "fit = df.apply(lambda x: d[x.name].fit_transform(x))\n",
    "# Inverse the encoded\n",
    "df2 = fit.apply(lambda x: d[x.name].inverse_transform(x))\n",
    "df2.head()\n",
    "# To verify if the tranformation happened as intended by using \n",
    "# inverse_transform()."
   ]
  },
  {
   "cell_type": "code",
   "execution_count": 72,
   "metadata": {},
   "outputs": [
    {
     "data": {
      "text/plain": [
       "True"
      ]
     },
     "execution_count": 72,
     "metadata": {},
     "output_type": "execute_result"
    }
   ],
   "source": [
    "# validating\n",
    "df.equals(df2)\n",
    "# The original data frame and the \"df2\" which was inverse \n",
    "# dataframe are same."
   ]
  },
  {
   "cell_type": "code",
   "execution_count": 73,
   "metadata": {},
   "outputs": [
    {
     "data": {
      "text/plain": [
       "True"
      ]
     },
     "execution_count": 73,
     "metadata": {},
     "output_type": "execute_result"
    }
   ],
   "source": [
    "# validating\n",
    "df1.equals(fit)\n",
    "# the transformed dataframe's are also same"
   ]
  },
  {
   "cell_type": "code",
   "execution_count": 74,
   "metadata": {},
   "outputs": [
    {
     "data": {
      "text/plain": [
       "True"
      ]
     },
     "execution_count": 74,
     "metadata": {},
     "output_type": "execute_result"
    }
   ],
   "source": [
    "# validating\n",
    "df.shape == df1.shape\n",
    "# both original and transformed data have same dimensions"
   ]
  },
  {
   "cell_type": "code",
   "execution_count": 75,
   "metadata": {},
   "outputs": [
    {
     "name": "stdout",
     "output_type": "stream",
     "text": [
      "The pandas is now changed to numpy array <class 'numpy.ndarray'>\n"
     ]
    }
   ],
   "source": [
    "df1 = df1.values\n",
    "print('The pandas is now changed to numpy array',type(df1))"
   ]
  },
  {
   "cell_type": "code",
   "execution_count": 76,
   "metadata": {},
   "outputs": [
    {
     "name": "stdout",
     "output_type": "stream",
     "text": [
      "(232, 17)\n"
     ]
    }
   ],
   "source": [
    "# \"df1\" has 232 observation and 17 variables\n",
    "# Features(2nd to last variables) and Target(1st variables) are assigned \n",
    "# to X and Y.\n",
    "print(df1.shape)\n",
    "Y = df1[:,0]\n",
    "X = df1[:,1:17]"
   ]
  },
  {
   "cell_type": "markdown",
   "metadata": {},
   "source": [
    "#### 2 hidden layers with 12 and 8 hidden nuerons - 150 epochs - 0.0001 learning rate ==========================="
   ]
  },
  {
   "cell_type": "code",
   "execution_count": 80,
   "metadata": {},
   "outputs": [
    {
     "name": "stdout",
     "output_type": "stream",
     "text": [
      "232/232 [==============================] - 0s 1ms/step\n",
      "\n",
      "acc: 84.48%\n",
      "\n",
      "loss: 45.58%\n",
      "\n",
      "================\n",
      "Confusion Matrix\n",
      "================\n",
      "True negatives:  124\n",
      "False negatives:  36\n",
      "False positives:  0\n",
      "True positives:  72\n"
     ]
    }
   ],
   "source": [
    "# np.random.seed(7) will produce the same set of network weights \n",
    "np.random.seed(7)\n",
    "\n",
    "# building keras model using sequential API\n",
    "model = Sequential()\n",
    "\n",
    "# adding 1st hidden layer which has 12 nuerons, input layer has 8 nuerons,\n",
    "# for 8 variables in 'X' dataset. The inputs are specifically mentioned \n",
    "# by using \"input_dim\" argument.\n",
    "# activation function \"relu\" is used.\n",
    "# The addition of product of inputs and the random weights of all the layers\n",
    "# below will passed through the respective activation function.\n",
    "model.add(Dense(12, input_dim=16, activation='relu'))\n",
    "\n",
    "# adding 2nd hidden layer with 8 nuerons and passing it thtough relu function.\n",
    "# The \"relu\" will predict the output from the 2nd hidden layer in 1 or 0. \n",
    "model.add(Dense(8, activation='relu'))\n",
    "\n",
    "# adding 3rd hidden/output layer which has 1 neurons, the activation\n",
    "# function used here is \"sigmoid\" which predicts the targets, ie. \"Y\"\n",
    "# by values between 1 and 0\n",
    "model.add(Dense(1, activation='sigmoid'))\n",
    "\n",
    "opt = Adam(lr=0.0001)\n",
    "# Adam optimizer default learning rate is 0.001.\n",
    "\n",
    "# after adding all the layers to the model, compiling them together with\n",
    "# additional properties such as loss \"binary_crossentropy\" , \n",
    "# gradient descent optimizer called \"adam\". The predicted observations \n",
    "# from the sigmoid activation function will be used to compute \n",
    "# loss = -{(y\\log(p) + (1 - y)\\log(1 - p))}, where log is the natural log, \n",
    "# y is binary indicator (0 or 1) and p is predicted probability. Further \n",
    "# the weights will be reduced by optimizer till the loss is low or until\n",
    "# the specified epochs are completed. Metric allows to monitor the model while \n",
    "# training. accuracy value and loss is generated for each epoch in verbose output.\n",
    "# compiling the model involves Tensorflow at backend using which the weights are\n",
    "# evaluated and the predictions are made.\n",
    "model.compile(loss='binary_crossentropy', optimizer=opt, metrics=['accuracy'])\n",
    "\n",
    "# The model created above will be now trained with data using fit() function.\n",
    "# For every epoch the loss will be decreased to its minimum.\n",
    "# verbose = 0 turns off the output progress bars during training\n",
    "one_fifty_history = model.fit(X, Y, epochs=150, verbose=0)\n",
    "\n",
    "# evaluate() function is used to check how the model will perform\n",
    "# on the test data set, here we will evaluate with the same dataset passed in\n",
    "# while training the model.When the score are printed in the output\n",
    "# it shows the values of overall [loss, accuracy] of the model\n",
    "scores = model.evaluate(X, Y)\n",
    "\n",
    "# predict() function is used for predicting the targets of the new dataset if any.\n",
    "# here we will just predict for the features dataset we have and check its accuracy\n",
    "# in the output below\n",
    "Y_predict = model.predict(X)\n",
    "\n",
    "# model.metrics_names[0:2] has first element \"loss\" and 2nd \"accuracy\"\n",
    "# where as scores 2nd element is loss and we are printing the same.\n",
    "print(\"\\n%s: %.2f%%\" % (model.metrics_names[1], scores[1]*100))\n",
    "print(\"\\n%s: %.2f%%\" % (model.metrics_names[0], scores[0]*100))\n",
    "\n",
    "# round() function rounds off the number to the nearest integer. \n",
    "rounded = [round(i[0]) for i in Y_predict]\n",
    "y_pred = np.array(rounded,dtype='int64')\n",
    "\n",
    "#confusion matrix is used to evaluate the quality of the output of the model.\n",
    "#The diagonal elements represent the number of points for which the predicted \n",
    "#label is equal to the true label, while off-diagonal elements are those that \n",
    "#are mislabeled by the model.\n",
    "print('')\n",
    "print('================')\n",
    "print('Confusion Matrix')\n",
    "print('================')\n",
    "CM = confusion_matrix(Y, y_pred)\n",
    "print('True negatives: ',CM[0,0])\n",
    "print('False negatives: ',CM[1,0])\n",
    "print('False positives: ',CM[0,1])\n",
    "print('True positives: ',CM[1,1])"
   ]
  },
  {
   "cell_type": "markdown",
   "metadata": {},
   "source": [
    "In above NN, the model predicted 36 actual Republicans as Democrats."
   ]
  },
  {
   "cell_type": "code",
   "execution_count": 81,
   "metadata": {},
   "outputs": [
    {
     "name": "stdout",
     "output_type": "stream",
     "text": [
      "[0.45578636280421553, 0.8448275862068966]\n"
     ]
    },
    {
     "data": {
      "image/png": "[encoded data removed]",
      "text/plain": [
       "<Figure size 720x360 with 1 Axes>"
      ]
     },
     "metadata": {
      "needs_background": "light"
     },
     "output_type": "display_data"
    }
   ],
   "source": [
    "print(scores)\n",
    "acc_onefifty = one_fifty_history .history['acc']\n",
    "loss_onefifty= one_fifty_history .history['loss']\n",
    "epoch = range(0,151)\n",
    "ax = plt.subplot(111)\n",
    "ax.plot(acc_onefifty, label=\"Accuracy\")\n",
    "plt.legend()\n",
    "ax.plot(loss_onefifty, label=\"Loss\")\n",
    "plt.legend()\n",
    "plt.xlabel(\"Number of epochs\")\n",
    "plt.ylabel(\"loss/accuracy values\")\n",
    "plt.title(\"Change in Loss and Accuracy with respect to number of epochs\",fontweight='bold')\n",
    "ax.spines['right'].set_visible(False)\n",
    "ax.spines['top'].set_visible(False)\n",
    "plt.xticks(np.arange(min(epoch), max(epoch)+1,15))\n",
    "plt.show()\n",
    "# The plot shows the model has increasein accuracy from approximately \n",
    "# 0.5 to 0.84(i.e 50% to 84% in 150epoch)\n",
    "# and loss reduces from  0.8 to approximately 0.45 during \n",
    "# the training process for 150 epochs. "
   ]
  },
  {
   "cell_type": "code",
   "execution_count": 82,
   "metadata": {},
   "outputs": [
    {
     "data": {
      "image/png": "[encoded data removed]",
      "text/plain": [
       "<Figure size 720x360 with 1 Axes>"
      ]
     },
     "metadata": {
      "needs_background": "light"
     },
     "output_type": "display_data"
    }
   ],
   "source": [
    "ax = plt.subplot(1,1,1)\n",
    "plt.hist(y_pred,alpha=0.5,histtype='stepfilled',label=\"prediction\")\n",
    "ax.legend()\n",
    "ax.legend(loc='best', bbox_to_anchor=(0.78,0.92))\n",
    "plt.hist(Y,alpha=0.5,histtype='stepfilled', label=\"Y_observed\")\n",
    "ax.legend()\n",
    "ax.legend(loc='best', bbox_to_anchor=(0.78,0.92))\n",
    "plt.xlabel(\"values of observations\")\n",
    "plt.ylabel(\"number of obseravtions\")\n",
    "plt.title(\"Comparisons of observed and predicted \\n values for 150 epochs\")\n",
    "ax.spines['right'].set_visible(False)\n",
    "ax.spines['top'].set_visible(False)\n",
    "plt.show()\n",
    "plt.rcParams['figure.figsize'] = [10,5]\n",
    "# The prediction which are closer to 1's and 0's are plotted over \n",
    "# Y_observed. 84.4% are predicted close/equal to actual values."
   ]
  },
  {
   "cell_type": "markdown",
   "metadata": {},
   "source": [
    "#### 3 hidden layers with 8,16 and then 32 hidden nuerons - 10 epochs - 0.1 learning rate ==========================="
   ]
  },
  {
   "cell_type": "code",
   "execution_count": 83,
   "metadata": {},
   "outputs": [
    {
     "name": "stdout",
     "output_type": "stream",
     "text": [
      "232/232 [==============================] - 0s 1ms/step\n",
      "\n",
      "acc: 99.57%\n",
      "\n",
      "loss: 2.11%\n",
      "\n",
      "================\n",
      "Confusion Matrix\n",
      "================\n",
      "True negatives:  123\n",
      "False negatives:  0\n",
      "False positives:  1\n",
      "True positives:  108\n"
     ]
    }
   ],
   "source": [
    "np.random.seed(7)\n",
    "model = Sequential()\n",
    "\n",
    "model.add(Dense(8, input_dim=16, activation='relu'))\n",
    "\n",
    "model.add(Dense(16, activation='relu'))\n",
    "\n",
    "model.add(Dense(32, activation='relu'))\n",
    "\n",
    "model.add(Dense(1, activation='sigmoid'))\n",
    "\n",
    "opt = Adam(lr=0.1)\n",
    "model.compile(loss='binary_crossentropy', optimizer= opt, metrics=['accuracy'])\n",
    "\n",
    "ten_history = model.fit(X, Y, epochs=10, verbose=0)\n",
    "\n",
    "scores = model.evaluate(X, Y)\n",
    "\n",
    "Y_predict = model.predict(X)\n",
    "\n",
    "print(\"\\n%s: %.2f%%\" % (model.metrics_names[1], scores[1]*100))\n",
    "print(\"\\n%s: %.2f%%\" % (model.metrics_names[0], scores[0]*100))\n",
    "\n",
    "rounded = [round(i[0]) for i in Y_predict]\n",
    "y_pred = np.array(rounded,dtype='int64')\n",
    "\n",
    "print('')\n",
    "print('================')\n",
    "print('Confusion Matrix')\n",
    "print('================')\n",
    "CM = confusion_matrix(Y, y_pred)\n",
    "print('True negatives: ',CM[0,0])\n",
    "print('False negatives: ',CM[1,0])\n",
    "print('False positives: ',CM[0,1])\n",
    "print('True positives: ',CM[1,1])"
   ]
  },
  {
   "cell_type": "markdown",
   "metadata": {},
   "source": [
    "1 actual democrat is predicted as republican"
   ]
  },
  {
   "cell_type": "code",
   "execution_count": 84,
   "metadata": {},
   "outputs": [
    {
     "name": "stdout",
     "output_type": "stream",
     "text": [
      "[0.021094730155992097, 0.9956896551724138]\n"
     ]
    },
    {
     "data": {
      "image/png": "[encoded data removed]",
      "text/plain": [
       "<Figure size 720x360 with 1 Axes>"
      ]
     },
     "metadata": {
      "needs_background": "light"
     },
     "output_type": "display_data"
    }
   ],
   "source": [
    "print(scores)\n",
    "acc_ten = ten_history .history['acc']\n",
    "loss_ten= ten_history .history['loss']\n",
    "epoch = range(0,11)\n",
    "ax = plt.subplot(111)\n",
    "ax.plot(acc_ten, label=\"Accuracy\")\n",
    "plt.legend()\n",
    "ax.plot(loss_ten, label=\"Loss\")\n",
    "plt.legend()\n",
    "plt.xlabel(\"Number of epochs\")\n",
    "plt.ylabel(\"loss/accuracy values\")\n",
    "plt.title(\"Change in Loss and Accuracy with respect to number of epochs\",fontweight='bold')\n",
    "ax.spines['right'].set_visible(False)\n",
    "ax.spines['top'].set_visible(False)\n",
    "plt.xticks(np.arange(min(epoch), max(epoch)+1,1))\n",
    "plt.show()\n",
    "# The plot shows the model has increasein accuracy from approximately \n",
    "# 0.8 to 0.99(i.e 80% to 99% in 10epoch)\n",
    "# and loss reduces from  0.75 to approximately 0.02 during \n",
    "# the training process for 10 epochs. "
   ]
  },
  {
   "cell_type": "code",
   "execution_count": 85,
   "metadata": {},
   "outputs": [
    {
     "data": {
      "image/png": "[encoded data removed]",
      "text/plain": [
       "<Figure size 720x360 with 1 Axes>"
      ]
     },
     "metadata": {
      "needs_background": "light"
     },
     "output_type": "display_data"
    }
   ],
   "source": [
    "ax = plt.subplot(1,1,1)\n",
    "plt.hist(y_pred,alpha=0.5,histtype='stepfilled',label=\"prediction\")\n",
    "ax.legend()\n",
    "ax.legend(loc='best', bbox_to_anchor=(0.78,0.92))\n",
    "plt.hist(Y,alpha=0.5,histtype='stepfilled', label=\"Y_observed\")\n",
    "ax.legend()\n",
    "ax.legend(loc='best', bbox_to_anchor=(0.78,0.92))\n",
    "plt.xlabel(\"values of observations\")\n",
    "plt.ylabel(\"number of obseravtions\")\n",
    "plt.title(\"Comparisons of observed and predicted \\n values for 10 epochs\")\n",
    "ax.spines['right'].set_visible(False)\n",
    "ax.spines['top'].set_visible(False)\n",
    "plt.show()\n",
    "plt.rcParams['figure.figsize'] = [10,5]\n",
    "# The prediction which are closer to 1's and 0's are plotted over \n",
    "# Y_observed. 99% are predicted close/equal to actual values"
   ]
  },
  {
   "cell_type": "markdown",
   "metadata": {},
   "source": [
    "#### 1 hidden layers with 128 hidden nuerons - 500 epochs - 0.01 learning rate ==========================="
   ]
  },
  {
   "cell_type": "code",
   "execution_count": 86,
   "metadata": {},
   "outputs": [
    {
     "name": "stdout",
     "output_type": "stream",
     "text": [
      "232/232 [==============================] - 0s 2ms/step\n",
      "\n",
      "acc: 100.00%\n",
      "\n",
      "loss: 0.00%\n",
      "\n",
      "================\n",
      "Confusion Matrix\n",
      "================\n",
      "True negatives:  124\n",
      "False negatives:  0\n",
      "False positives:  0\n",
      "True positives:  108\n"
     ]
    }
   ],
   "source": [
    "np.random.seed(7)\n",
    "model = Sequential()\n",
    "\n",
    "model.add(Dense(128, input_dim=16, activation='relu'))\n",
    "\n",
    "model.add(Dense(1, activation='sigmoid'))\n",
    "\n",
    "opt = Adam(lr=0.1)\n",
    "model.compile(loss='binary_crossentropy', optimizer= opt, metrics=['accuracy'])\n",
    "\n",
    "five_history = model.fit(X, Y, epochs=500, verbose=0)\n",
    "\n",
    "scores = model.evaluate(X, Y)\n",
    "\n",
    "Y_predict = model.predict(X)\n",
    "\n",
    "print(\"\\n%s: %.2f%%\" % (model.metrics_names[1], scores[1]*100))\n",
    "print(\"\\n%s: %.2f%%\" % (model.metrics_names[0], scores[0]*100))\n",
    "\n",
    "rounded = [round(i[0]) for i in Y_predict]\n",
    "y_pred = np.array(rounded,dtype='int64')\n",
    "\n",
    "print('')\n",
    "print('================')\n",
    "print('Confusion Matrix')\n",
    "print('================')\n",
    "CM = confusion_matrix(Y, y_pred)\n",
    "print('True negatives: ',CM[0,0])\n",
    "print('False negatives: ',CM[1,0])\n",
    "print('False positives: ',CM[0,1])\n",
    "print('True positives: ',CM[1,1])"
   ]
  },
  {
   "cell_type": "code",
   "execution_count": 62,
   "metadata": {},
   "outputs": [
    {
     "name": "stdout",
     "output_type": "stream",
     "text": [
      "[0.0014687232198474672, 1.0]\n"
     ]
    },
    {
     "data": {
      "image/png": "[encoded data removed]",
      "text/plain": [
       "<Figure size 720x360 with 1 Axes>"
      ]
     },
     "metadata": {
      "needs_background": "light"
     },
     "output_type": "display_data"
    }
   ],
   "source": [
    "print(scores)\n",
    "acc_five = five_history .history['acc']\n",
    "loss_five = five_history .history['loss']\n",
    "epoch = range(0,11)\n",
    "ax = plt.subplot(111)\n",
    "ax.plot(acc_five, label=\"Accuracy\")\n",
    "plt.legend()\n",
    "ax.plot(loss_five, label=\"Loss\")\n",
    "plt.legend()\n",
    "plt.xlabel(\"Number of epochs\")\n",
    "plt.ylabel(\"loss/accuracy values\")\n",
    "plt.title(\"Change in Loss and Accuracy with respect to 500 number of epochs\",fontweight='bold')\n",
    "ax.spines['right'].set_visible(False)\n",
    "ax.spines['top'].set_visible(False)\n",
    "plt.xticks(np.arange(min(epoch), max(epoch)+1,100))\n",
    "plt.show()\n",
    "# The plot shows the model has increase in accuracy from approximately \n",
    "# 0.54 to 1 (i.e 54% to 100% in 10epoch)\n",
    "# and loss reduces from  0.67 to approximately 0 during \n",
    "# the training process for 10 epochs. "
   ]
  },
  {
   "cell_type": "code",
   "execution_count": 87,
   "metadata": {},
   "outputs": [
    {
     "data": {
      "image/png": "[encoded data removed]",
      "text/plain": [
       "<Figure size 720x360 with 1 Axes>"
      ]
     },
     "metadata": {
      "needs_background": "light"
     },
     "output_type": "display_data"
    }
   ],
   "source": [
    "ax = plt.subplot(1,1,1)\n",
    "plt.hist(y_pred,alpha=0.5,histtype='stepfilled',label=\"prediction\")\n",
    "ax.legend()\n",
    "ax.legend(loc='best', bbox_to_anchor=(0.78,0.92))\n",
    "plt.hist(Y,alpha=0.5,histtype='stepfilled', label=\"Y_observed\")\n",
    "ax.legend()\n",
    "ax.legend(loc='best', bbox_to_anchor=(0.78,0.92))\n",
    "plt.xlabel(\"values of observations\")\n",
    "plt.ylabel(\"number of obseravtions\")\n",
    "plt.title(\"Comparisons of observed and predicted \\n values for 10 epochs\")\n",
    "ax.spines['right'].set_visible(False)\n",
    "ax.spines['top'].set_visible(False)\n",
    "plt.show()\n",
    "plt.rcParams['figure.figsize'] = [10,5]\n",
    "# all y_pred matches with Y_observed. 100% accuracy."
   ]
  },
  {
   "cell_type": "markdown",
   "metadata": {},
   "source": [
    "references:\n",
    "\n",
    "https://stackoverflow.com/questions/24458645/label-encoding-across-multiple-columns-in-scikit-learn encoding categorical to binary\n",
    "\n",
    "https://www.w3schools.com/python/python_lambda.asp lamda\n",
    "\n",
    "https://medium.com/@contactsunny/label-encoder-vs-one-hot-encoder-in-machine-learning-3fc273365621 encoding vs one hot encoding\n",
    "\n",
    "https://machinelearningmastery.com/understand-the-dynamics-of-learning-rate-on-deep-learning-neural-networks/ for different learning rate"
   ]
  }
 ],
 "metadata": {
  "kernelspec": {
   "display_name": "Python 3",
   "language": "python",
   "name": "python3"
  },
  "language_info": {
   "codemirror_mode": {
    "name": "ipython",
    "version": 3
   },
   "file_extension": ".py",
   "mimetype": "text/x-python",
   "name": "python",
   "nbconvert_exporter": "python",
   "pygments_lexer": "ipython3",
   "version": "3.4.5"
  }
 },
 "nbformat": 4,
 "nbformat_minor": 2
}
